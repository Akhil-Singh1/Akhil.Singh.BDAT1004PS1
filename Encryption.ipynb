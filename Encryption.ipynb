{
 "cells": [
  {
   "cell_type": "code",
   "execution_count": 1,
   "id": "26befd2e",
   "metadata": {},
   "outputs": [
    {
     "name": "stdout",
     "output_type": "stream",
     "text": [
      "enter the stringHello\n",
      "dict_values([0, 0, 0, 0, 1, 0, 0, 1, 0, 0, 0, 2, 0, 0, 1, 0, 0, 0, 0, 0, 0, 0, 0, 0, 0, 0])\n"
     ]
    }
   ],
   "source": [
    "def frequencies(str1):\n",
    "    alpha = dict()                               #new dict\n",
    "    key = 'abcdefghijklmnopqrstvuwxyz'             \n",
    "    value = 0\n",
    "\n",
    "    for i in range(len(key)):\n",
    "        alpha[key[i]] = value                    #value,key pair set to initial stage a:0, b:0\n",
    "    #print(alpha)\n",
    "    for i in str1:\n",
    "        #print(i)\n",
    "        alpha[i] += 1                            #incrementing each letter as it comes\n",
    "    return(alpha.values())\n",
    "\n",
    "a = input(\"enter the string\")\n",
    "a_1 = a.lower()\n",
    "print(frequencies(a_1))"
   ]
  },
  {
   "cell_type": "raw",
   "id": "bddf3b0d",
   "metadata": {},
   "source": [
    "Output:\n",
    "    enter the stringHello\n",
    "dict_values([0, 0, 0, 0, 1, 0, 0, 1, 0, 0, 0, 2, 0, 0, 1, 0, 0, 0, 0, 0, 0, 0, 0, 0, 0, 0])"
   ]
  }
 ],
 "metadata": {
  "kernelspec": {
   "display_name": "Python 3 (ipykernel)",
   "language": "python",
   "name": "python3"
  },
  "language_info": {
   "codemirror_mode": {
    "name": "ipython",
    "version": 3
   },
   "file_extension": ".py",
   "mimetype": "text/x-python",
   "name": "python",
   "nbconvert_exporter": "python",
   "pygments_lexer": "ipython3",
   "version": "3.9.12"
  }
 },
 "nbformat": 4,
 "nbformat_minor": 5
}
