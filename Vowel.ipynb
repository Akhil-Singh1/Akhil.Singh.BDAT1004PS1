{
 "cells": [
  {
   "cell_type": "code",
   "execution_count": 4,
   "id": "3f044010",
   "metadata": {},
   "outputs": [
    {
     "name": "stdout",
     "output_type": "stream",
     "text": [
      "enter the wordTRY\n",
      "RYTay\n"
     ]
    }
   ],
   "source": [
    "def pig(character):\n",
    "    listForVowels = [\"a\",\"e\",\"i\",\"o\",\"u\"]                       #initialize list of vowels\n",
    "    if(character in listForVowels):\n",
    "        return True\n",
    "    else:\n",
    "        return False\n",
    "\n",
    "word = input(\"enter the word\")\n",
    "word.lower()                                            #all to lower case\n",
    "Letter = word[0]                                         #selecting the first letter\n",
    "if(pig(Letter)):\n",
    "    print(word.lower() + \"way\")\n",
    "else:\n",
    "    print(word[1:] + Letter + \"ay\")"
   ]
  },
  {
   "cell_type": "raw",
   "id": "1406f81a",
   "metadata": {},
   "source": [
    "Output:\n",
    "enter the wordTRY\n",
    "RYTay"
   ]
  },
  {
   "cell_type": "code",
   "execution_count": null,
   "id": "6e6708b8",
   "metadata": {},
   "outputs": [],
   "source": []
  },
  {
   "cell_type": "code",
   "execution_count": null,
   "id": "e2fbb220",
   "metadata": {},
   "outputs": [],
   "source": []
  }
 ],
 "metadata": {
  "kernelspec": {
   "display_name": "Python 3 (ipykernel)",
   "language": "python",
   "name": "python3"
  },
  "language_info": {
   "codemirror_mode": {
    "name": "ipython",
    "version": 3
   },
   "file_extension": ".py",
   "mimetype": "text/x-python",
   "name": "python",
   "nbconvert_exporter": "python",
   "pygments_lexer": "ipython3",
   "version": "3.9.12"
  }
 },
 "nbformat": 4,
 "nbformat_minor": 5
}
