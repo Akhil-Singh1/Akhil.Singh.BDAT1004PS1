{
 "cells": [
  {
   "cell_type": "code",
   "execution_count": 1,
   "id": "d3677bd5",
   "metadata": {},
   "outputs": [],
   "source": [
    "import numpy as np\n",
    "import pandas as pd"
   ]
  },
  {
   "cell_type": "code",
   "execution_count": null,
   "id": "2070d657",
   "metadata": {},
   "outputs": [],
   "source": [
    "with open(r'C:\\Users\\akhil\\Downloads/currencies.txt', 'r') as f:\n",
    "    contents = f.readlines()                                            #reading lines"
   ]
  },
  {
   "cell_type": "code",
   "execution_count": 14,
   "id": "d1cf39d5",
   "metadata": {},
   "outputs": [
    {
     "data": {
      "text/plain": [
       "0     AUD\n",
       "1     CHF\n",
       "2     CNY\n",
       "3     DKK\n",
       "4     EUR\n",
       "5     GBP\n",
       "6     HKD\n",
       "7     INR\n",
       "8     JPY\n",
       "9     MXN\n",
       "10    MYR\n",
       "11    NOK\n",
       "12    NZD\n",
       "13    PHP\n",
       "14    SEK\n",
       "15    SGD\n",
       "16    THB\n",
       "17    CHF\n",
       "18    CNY\n",
       "19    DKK\n",
       "20    EUR\n",
       "21    GBP\n",
       "22    HKD\n",
       "23    INR\n",
       "24    JPY\n",
       "25    MXN\n",
       "26    MYR\n",
       "27    NOK\n",
       "28    NZD\n",
       "29    PHP\n",
       "30    SEK\n",
       "31    SGD\n",
       "32    THB\n",
       "Name: 0, dtype: object"
      ]
     },
     "execution_count": 14,
     "metadata": {},
     "output_type": "execute_result"
    }
   ],
   "source": [
    "contents[0]"
   ]
  },
  {
   "cell_type": "code",
   "execution_count": null,
   "id": "4469a79f",
   "metadata": {},
   "outputs": [],
   "source": []
  },
  {
   "cell_type": "code",
   "execution_count": 12,
   "id": "bae9a524",
   "metadata": {},
   "outputs": [],
   "source": [
    "for i in range(len(contents)):                           #removing spaces and newlines\n",
    "    contents[i] = contents[i].split('\\t')\n",
    "    contents[i][2] = contents[i][2].replace('\\n', '')"
   ]
  },
  {
   "cell_type": "code",
   "execution_count": 13,
   "id": "2aeac83e",
   "metadata": {},
   "outputs": [
    {
     "data": {
      "text/html": [
       "<div>\n",
       "<style scoped>\n",
       "    .dataframe tbody tr th:only-of-type {\n",
       "        vertical-align: middle;\n",
       "    }\n",
       "\n",
       "    .dataframe tbody tr th {\n",
       "        vertical-align: top;\n",
       "    }\n",
       "\n",
       "    .dataframe thead th {\n",
       "        text-align: right;\n",
       "    }\n",
       "</style>\n",
       "<table border=\"1\" class=\"dataframe\">\n",
       "  <thead>\n",
       "    <tr style=\"text-align: right;\">\n",
       "      <th></th>\n",
       "      <th>0</th>\n",
       "      <th>1</th>\n",
       "      <th>2</th>\n",
       "    </tr>\n",
       "  </thead>\n",
       "  <tbody>\n",
       "    <tr>\n",
       "      <th>0</th>\n",
       "      <td>AUD</td>\n",
       "      <td>1.0345157</td>\n",
       "      <td>Australian Dollar</td>\n",
       "    </tr>\n",
       "    <tr>\n",
       "      <th>1</th>\n",
       "      <td>CHF</td>\n",
       "      <td>1.0237414</td>\n",
       "      <td>Swiss Franc</td>\n",
       "    </tr>\n",
       "    <tr>\n",
       "      <th>2</th>\n",
       "      <td>CNY</td>\n",
       "      <td>0.1550176</td>\n",
       "      <td>Chinese Yuan</td>\n",
       "    </tr>\n",
       "    <tr>\n",
       "      <th>3</th>\n",
       "      <td>DKK</td>\n",
       "      <td>0.1651442</td>\n",
       "      <td>Danish Krone</td>\n",
       "    </tr>\n",
       "    <tr>\n",
       "      <th>4</th>\n",
       "      <td>EUR</td>\n",
       "      <td>1.2296544</td>\n",
       "      <td>Euro</td>\n",
       "    </tr>\n",
       "    <tr>\n",
       "      <th>5</th>\n",
       "      <td>GBP</td>\n",
       "      <td>1.5550989</td>\n",
       "      <td>British Pound</td>\n",
       "    </tr>\n",
       "    <tr>\n",
       "      <th>6</th>\n",
       "      <td>HKD</td>\n",
       "      <td>0.1270207</td>\n",
       "      <td>Hong Kong Dollar</td>\n",
       "    </tr>\n",
       "    <tr>\n",
       "      <th>7</th>\n",
       "      <td>INR</td>\n",
       "      <td>0.0177643</td>\n",
       "      <td>Indian Rupee</td>\n",
       "    </tr>\n",
       "    <tr>\n",
       "      <th>8</th>\n",
       "      <td>JPY</td>\n",
       "      <td>0.01241401</td>\n",
       "      <td>Japanese Yen</td>\n",
       "    </tr>\n",
       "    <tr>\n",
       "      <th>9</th>\n",
       "      <td>MXN</td>\n",
       "      <td>0.0751848</td>\n",
       "      <td>Mexican Peso</td>\n",
       "    </tr>\n",
       "    <tr>\n",
       "      <th>10</th>\n",
       "      <td>MYR</td>\n",
       "      <td>0.3145411</td>\n",
       "      <td>Malaysian Ringgit</td>\n",
       "    </tr>\n",
       "    <tr>\n",
       "      <th>11</th>\n",
       "      <td>NOK</td>\n",
       "      <td>0.1677063</td>\n",
       "      <td>Norwegian Krone</td>\n",
       "    </tr>\n",
       "    <tr>\n",
       "      <th>12</th>\n",
       "      <td>NZD</td>\n",
       "      <td>0.8003591</td>\n",
       "      <td>New Zealand Dollar</td>\n",
       "    </tr>\n",
       "    <tr>\n",
       "      <th>13</th>\n",
       "      <td>PHP</td>\n",
       "      <td>0.0233234</td>\n",
       "      <td>Philippine Peso</td>\n",
       "    </tr>\n",
       "    <tr>\n",
       "      <th>14</th>\n",
       "      <td>SEK</td>\n",
       "      <td>0.148269</td>\n",
       "      <td>Swedish Krona</td>\n",
       "    </tr>\n",
       "    <tr>\n",
       "      <th>15</th>\n",
       "      <td>SGD</td>\n",
       "      <td>0.788871</td>\n",
       "      <td>Singapore Dollar</td>\n",
       "    </tr>\n",
       "    <tr>\n",
       "      <th>16</th>\n",
       "      <td>THB</td>\n",
       "      <td>0.0313789</td>\n",
       "      <td>Thai Bahtlar</td>\n",
       "    </tr>\n",
       "    <tr>\n",
       "      <th>17</th>\n",
       "      <td>CHF</td>\n",
       "      <td>1.0237414</td>\n",
       "      <td>Swiss Franc</td>\n",
       "    </tr>\n",
       "    <tr>\n",
       "      <th>18</th>\n",
       "      <td>CNY</td>\n",
       "      <td>0.1550176</td>\n",
       "      <td>Chinese Yuan</td>\n",
       "    </tr>\n",
       "    <tr>\n",
       "      <th>19</th>\n",
       "      <td>DKK</td>\n",
       "      <td>0.1651442</td>\n",
       "      <td>Danish Krone</td>\n",
       "    </tr>\n",
       "    <tr>\n",
       "      <th>20</th>\n",
       "      <td>EUR</td>\n",
       "      <td>1.2296544</td>\n",
       "      <td>Euro</td>\n",
       "    </tr>\n",
       "    <tr>\n",
       "      <th>21</th>\n",
       "      <td>GBP</td>\n",
       "      <td>1.5550989</td>\n",
       "      <td>British Pound</td>\n",
       "    </tr>\n",
       "    <tr>\n",
       "      <th>22</th>\n",
       "      <td>HKD</td>\n",
       "      <td>0.1270207</td>\n",
       "      <td>Hong Kong Dollar</td>\n",
       "    </tr>\n",
       "    <tr>\n",
       "      <th>23</th>\n",
       "      <td>INR</td>\n",
       "      <td>0.0177643</td>\n",
       "      <td>Indian Rupee</td>\n",
       "    </tr>\n",
       "    <tr>\n",
       "      <th>24</th>\n",
       "      <td>JPY</td>\n",
       "      <td>0.01241401</td>\n",
       "      <td>Japanese Yen</td>\n",
       "    </tr>\n",
       "    <tr>\n",
       "      <th>25</th>\n",
       "      <td>MXN</td>\n",
       "      <td>0.0751848</td>\n",
       "      <td>Mexican Peso</td>\n",
       "    </tr>\n",
       "    <tr>\n",
       "      <th>26</th>\n",
       "      <td>MYR</td>\n",
       "      <td>0.3145411</td>\n",
       "      <td>Malaysian Ringgit</td>\n",
       "    </tr>\n",
       "    <tr>\n",
       "      <th>27</th>\n",
       "      <td>NOK</td>\n",
       "      <td>0.1677063</td>\n",
       "      <td>Norwegian Krone</td>\n",
       "    </tr>\n",
       "    <tr>\n",
       "      <th>28</th>\n",
       "      <td>NZD</td>\n",
       "      <td>0.8003591</td>\n",
       "      <td>New Zealand Dollar</td>\n",
       "    </tr>\n",
       "    <tr>\n",
       "      <th>29</th>\n",
       "      <td>PHP</td>\n",
       "      <td>0.0233234</td>\n",
       "      <td>Philippine Peso</td>\n",
       "    </tr>\n",
       "    <tr>\n",
       "      <th>30</th>\n",
       "      <td>SEK</td>\n",
       "      <td>0.148269</td>\n",
       "      <td>Swedish Krona</td>\n",
       "    </tr>\n",
       "    <tr>\n",
       "      <th>31</th>\n",
       "      <td>SGD</td>\n",
       "      <td>0.788871</td>\n",
       "      <td>Singapore Dollar</td>\n",
       "    </tr>\n",
       "    <tr>\n",
       "      <th>32</th>\n",
       "      <td>THB</td>\n",
       "      <td>0.0313789</td>\n",
       "      <td>Thai Baht</td>\n",
       "    </tr>\n",
       "  </tbody>\n",
       "</table>\n",
       "</div>"
      ],
      "text/plain": [
       "      0           1                   2\n",
       "0   AUD   1.0345157   Australian Dollar\n",
       "1   CHF   1.0237414         Swiss Franc\n",
       "2   CNY   0.1550176        Chinese Yuan\n",
       "3   DKK   0.1651442        Danish Krone\n",
       "4   EUR   1.2296544                Euro\n",
       "5   GBP   1.5550989       British Pound\n",
       "6   HKD   0.1270207    Hong Kong Dollar\n",
       "7   INR   0.0177643        Indian Rupee\n",
       "8   JPY  0.01241401        Japanese Yen\n",
       "9   MXN   0.0751848        Mexican Peso\n",
       "10  MYR   0.3145411   Malaysian Ringgit\n",
       "11  NOK   0.1677063     Norwegian Krone\n",
       "12  NZD   0.8003591  New Zealand Dollar\n",
       "13  PHP   0.0233234     Philippine Peso\n",
       "14  SEK    0.148269       Swedish Krona\n",
       "15  SGD    0.788871    Singapore Dollar\n",
       "16  THB   0.0313789        Thai Bahtlar\n",
       "17  CHF   1.0237414         Swiss Franc\n",
       "18  CNY   0.1550176        Chinese Yuan\n",
       "19  DKK   0.1651442        Danish Krone\n",
       "20  EUR   1.2296544                Euro\n",
       "21  GBP   1.5550989       British Pound\n",
       "22  HKD   0.1270207    Hong Kong Dollar\n",
       "23  INR   0.0177643        Indian Rupee\n",
       "24  JPY  0.01241401        Japanese Yen\n",
       "25  MXN   0.0751848        Mexican Peso\n",
       "26  MYR   0.3145411   Malaysian Ringgit\n",
       "27  NOK   0.1677063     Norwegian Krone\n",
       "28  NZD   0.8003591  New Zealand Dollar\n",
       "29  PHP   0.0233234     Philippine Peso\n",
       "30  SEK    0.148269       Swedish Krona\n",
       "31  SGD    0.788871    Singapore Dollar\n",
       "32  THB   0.0313789           Thai Baht"
      ]
     },
     "execution_count": 13,
     "metadata": {},
     "output_type": "execute_result"
    }
   ],
   "source": [
    "contents = pd.DataFrame(contents)\n",
    "contents"
   ]
  },
  {
   "cell_type": "code",
   "execution_count": 15,
   "id": "f6176a98",
   "metadata": {},
   "outputs": [],
   "source": [
    "contents = contents.iloc[:,[0,1]] "
   ]
  },
  {
   "cell_type": "code",
   "execution_count": 17,
   "id": "d89d3494",
   "metadata": {},
   "outputs": [
    {
     "name": "stderr",
     "output_type": "stream",
     "text": [
      "/var/folders/19/26gjj12n2j76yptyvj6ptxmr0000gn/T/ipykernel_46841/3062786887.py:2: SettingWithCopyWarning: \n",
      "A value is trying to be set on a copy of a slice from a DataFrame\n",
      "\n",
      "See the caveats in the documentation: https://pandas.pydata.org/pandas-docs/stable/user_guide/indexing.html#returning-a-view-versus-a-copy\n",
      "  contents[1][i] = float(contents[1][i])\n"
     ]
    }
   ],
   "source": [
    "for i in range(len(contents)):\n",
    "    contents[1][i] = float(contents[1][i])"
   ]
  },
  {
   "cell_type": "code",
   "execution_count": 18,
   "id": "ccbccda8",
   "metadata": {},
   "outputs": [
    {
     "data": {
      "text/plain": [
       "dict"
      ]
     },
     "execution_count": 18,
     "metadata": {},
     "output_type": "execute_result"
    }
   ],
   "source": [
    "dict"
   ]
  },
  {
   "cell_type": "code",
   "execution_count": 19,
   "id": "31dfa2b9",
   "metadata": {},
   "outputs": [],
   "source": [
    "arr1= np.array(contents.iloc[:,0])              #2 diff array for short form of currency and conversion rate\n",
    "arr2 = np.array(contents.iloc[:,1])"
   ]
  },
  {
   "cell_type": "code",
   "execution_count": 20,
   "id": "5ae9014a",
   "metadata": {},
   "outputs": [
    {
     "data": {
      "text/plain": [
       "numpy.ndarray"
      ]
     },
     "execution_count": 20,
     "metadata": {},
     "output_type": "execute_result"
    }
   ],
   "source": [
    "type(arr2)"
   ]
  },
  {
   "cell_type": "code",
   "execution_count": 21,
   "id": "f82160b9",
   "metadata": {},
   "outputs": [],
   "source": [
    "dict = {}\n",
    "for i, j in zip(arr1,arr2):             #key value pairs in dictionary\n",
    "    dict[i]= j"
   ]
  },
  {
   "cell_type": "code",
   "execution_count": 22,
   "id": "4cb35c99",
   "metadata": {},
   "outputs": [],
   "source": [
    "def exchange(symbol, rate):\n",
    "    for i in dict:\n",
    "        if i == symbol:                             #finding the currency\n",
    "            multiplier = dict[i]\n",
    "            return(rate*multiplier)"
   ]
  },
  {
   "cell_type": "code",
   "execution_count": 26,
   "id": "7a3f6395",
   "metadata": {},
   "outputs": [
    {
     "data": {
      "text/plain": [
       "80.03591"
      ]
     },
     "execution_count": 26,
     "metadata": {},
     "output_type": "execute_result"
    }
   ],
   "source": [
    "exchange('NZD',100)"
   ]
  },
  {
   "cell_type": "code",
   "execution_count": 27,
   "id": "70d703a0",
   "metadata": {},
   "outputs": [
    {
     "name": "stdout",
     "output_type": "stream",
     "text": [
      "Please enter the symbol: INR\n",
      "Please enter the amount you want to convert: 10000\n"
     ]
    }
   ],
   "source": [
    "a = input(\"Please enter the symbol: \")\n",
    "b = float(input(\"Please enter the amount you want to convert: \"))"
   ]
  },
  {
   "cell_type": "code",
   "execution_count": 28,
   "id": "be61d91a",
   "metadata": {},
   "outputs": [
    {
     "name": "stdout",
     "output_type": "stream",
     "text": [
      "177.643\n"
     ]
    }
   ],
   "source": [
    "print(exchange(a,b))"
   ]
  },
  {
   "cell_type": "code",
   "execution_count": null,
   "id": "8d545fe8",
   "metadata": {},
   "outputs": [],
   "source": []
  }
 ],
 "metadata": {
  "kernelspec": {
   "display_name": "Python 3 (ipykernel)",
   "language": "python",
   "name": "python3"
  },
  "language_info": {
   "codemirror_mode": {
    "name": "ipython",
    "version": 3
   },
   "file_extension": ".py",
   "mimetype": "text/x-python",
   "name": "python",
   "nbconvert_exporter": "python",
   "pygments_lexer": "ipython3",
   "version": "3.9.12"
  }
 },
 "nbformat": 4,
 "nbformat_minor": 5
}
