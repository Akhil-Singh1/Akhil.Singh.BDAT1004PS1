{
 "cells": [
  {
   "cell_type": "code",
   "execution_count": null,
   "id": "c8959c50",
   "metadata": {},
   "outputs": [],
   "source": [
    "\n",
    "def bloodtype(blood):\n",
    "    blood_typ = blood.split(' ')\n",
    "    count = dict()                                  #defining a dictionary\n",
    "    for type in blood_typ:\n",
    "        if type in count:\n",
    "            count[type] += 1                       # increasing the value by 1\n",
    "        else:\n",
    "            count[type] = 1                       #intro new key and a\n",
    "    for type,num in count.items():\n",
    "        print('number of patients for blood type',type,num)\n",
    "with open(r'Desktop/BloodType.rtf') as f:\n",
    "    lines = f.readlines()\n",
    "lines[-1] = lines[-1].strip()                         #removing /n\n",
    "str = \"\"\n",
    "for lit in lines:\n",
    "    str += lit\n",
    "bloodtype(str)"
   ]
  },
  {
   "cell_type": "markdown",
   "id": "187c552d",
   "metadata": {},
   "source": [
    "Output:\n",
    "number of patients for blood type AB 13\n",
    "number of patients for blood type B 1\n",
    "number of patients for blood type O 15\n",
    "number of patients for blood type A 15"
   ]
  },
  {
   "cell_type": "code",
   "execution_count": null,
   "id": "bd944b87",
   "metadata": {},
   "outputs": [],
   "source": []
  }
 ],
 "metadata": {
  "kernelspec": {
   "display_name": "Python 3 (ipykernel)",
   "language": "python",
   "name": "python3"
  },
  "language_info": {
   "codemirror_mode": {
    "name": "ipython",
    "version": 3
   },
   "file_extension": ".py",
   "mimetype": "text/x-python",
   "name": "python",
   "nbconvert_exporter": "python",
   "pygments_lexer": "ipython3",
   "version": "3.9.12"
  }
 },
 "nbformat": 4,
 "nbformat_minor": 5
}
